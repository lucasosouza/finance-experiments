{
 "cells": [
  {
   "cell_type": "code",
   "execution_count": 1,
   "metadata": {
    "collapsed": true
   },
   "outputs": [],
   "source": [
    "import numpy as np\n",
    "import pandas as pd\n",
    "import matplotlib.pyplot as plt\n",
    "from datetime import datetime\n",
    "%matplotlib inline"
   ]
  },
  {
   "cell_type": "code",
   "execution_count": 38,
   "metadata": {
    "collapsed": false
   },
   "outputs": [],
   "source": [
    "lista=[]\n",
    "with open('data.txt', 'r') as f_open:\n",
    "    for index, line in enumerate(f_open):\n",
    "        lista.append(\"{}. {}\".format(index, line.strip()))"
   ]
  },
  {
   "cell_type": "code",
   "execution_count": 45,
   "metadata": {
    "collapsed": false
   },
   "outputs": [],
   "source": [
    "import csv\n",
    "with open('train.csv', 'r') as f_open:\n",
    "    data = csv.DictReader(f_open)\n",
    "    data = [d for d in data]"
   ]
  },
  {
   "cell_type": "code",
   "execution_count": 27,
   "metadata": {
    "collapsed": false
   },
   "outputs": [],
   "source": [
    "df = pd.read_csv('/Users/lucasosouza/Documents/Projects-Ongoing/Tests/train.csv')"
   ]
  },
  {
   "cell_type": "code",
   "execution_count": 28,
   "metadata": {
    "collapsed": false
   },
   "outputs": [
    {
     "data": {
      "text/html": [
       "<div>\n",
       "<style scoped>\n",
       "    .dataframe tbody tr th:only-of-type {\n",
       "        vertical-align: middle;\n",
       "    }\n",
       "\n",
       "    .dataframe tbody tr th {\n",
       "        vertical-align: top;\n",
       "    }\n",
       "\n",
       "    .dataframe thead th {\n",
       "        text-align: right;\n",
       "    }\n",
       "</style>\n",
       "<table border=\"1\" class=\"dataframe\">\n",
       "  <thead>\n",
       "    <tr style=\"text-align: right;\">\n",
       "      <th></th>\n",
       "      <th>PassengerId</th>\n",
       "      <th>Survived</th>\n",
       "      <th>Pclass</th>\n",
       "      <th>Name</th>\n",
       "      <th>Sex</th>\n",
       "      <th>Age</th>\n",
       "      <th>SibSp</th>\n",
       "      <th>Parch</th>\n",
       "      <th>Ticket</th>\n",
       "      <th>Fare</th>\n",
       "      <th>Cabin</th>\n",
       "      <th>Embarked</th>\n",
       "    </tr>\n",
       "  </thead>\n",
       "  <tbody>\n",
       "    <tr>\n",
       "      <th>0</th>\n",
       "      <td>1</td>\n",
       "      <td>0</td>\n",
       "      <td>3</td>\n",
       "      <td>Braund, Mr. Owen Harris</td>\n",
       "      <td>male</td>\n",
       "      <td>22.0</td>\n",
       "      <td>1</td>\n",
       "      <td>0</td>\n",
       "      <td>A/5 21171</td>\n",
       "      <td>7.2500</td>\n",
       "      <td>NaN</td>\n",
       "      <td>S</td>\n",
       "    </tr>\n",
       "    <tr>\n",
       "      <th>1</th>\n",
       "      <td>2</td>\n",
       "      <td>1</td>\n",
       "      <td>1</td>\n",
       "      <td>Cumings, Mrs. John Bradley (Florence Briggs Th...</td>\n",
       "      <td>female</td>\n",
       "      <td>38.0</td>\n",
       "      <td>1</td>\n",
       "      <td>0</td>\n",
       "      <td>PC 17599</td>\n",
       "      <td>71.2833</td>\n",
       "      <td>C85</td>\n",
       "      <td>C</td>\n",
       "    </tr>\n",
       "    <tr>\n",
       "      <th>2</th>\n",
       "      <td>3</td>\n",
       "      <td>1</td>\n",
       "      <td>3</td>\n",
       "      <td>Heikkinen, Miss. Laina</td>\n",
       "      <td>female</td>\n",
       "      <td>26.0</td>\n",
       "      <td>0</td>\n",
       "      <td>0</td>\n",
       "      <td>STON/O2. 3101282</td>\n",
       "      <td>7.9250</td>\n",
       "      <td>NaN</td>\n",
       "      <td>S</td>\n",
       "    </tr>\n",
       "    <tr>\n",
       "      <th>3</th>\n",
       "      <td>4</td>\n",
       "      <td>1</td>\n",
       "      <td>1</td>\n",
       "      <td>Futrelle, Mrs. Jacques Heath (Lily May Peel)</td>\n",
       "      <td>female</td>\n",
       "      <td>35.0</td>\n",
       "      <td>1</td>\n",
       "      <td>0</td>\n",
       "      <td>113803</td>\n",
       "      <td>53.1000</td>\n",
       "      <td>C123</td>\n",
       "      <td>S</td>\n",
       "    </tr>\n",
       "    <tr>\n",
       "      <th>4</th>\n",
       "      <td>5</td>\n",
       "      <td>0</td>\n",
       "      <td>3</td>\n",
       "      <td>Allen, Mr. William Henry</td>\n",
       "      <td>male</td>\n",
       "      <td>35.0</td>\n",
       "      <td>0</td>\n",
       "      <td>0</td>\n",
       "      <td>373450</td>\n",
       "      <td>8.0500</td>\n",
       "      <td>NaN</td>\n",
       "      <td>S</td>\n",
       "    </tr>\n",
       "  </tbody>\n",
       "</table>\n",
       "</div>"
      ],
      "text/plain": [
       "   PassengerId  Survived  Pclass  \\\n",
       "0            1         0       3   \n",
       "1            2         1       1   \n",
       "2            3         1       3   \n",
       "3            4         1       1   \n",
       "4            5         0       3   \n",
       "\n",
       "                                                Name     Sex   Age  SibSp  \\\n",
       "0                            Braund, Mr. Owen Harris    male  22.0      1   \n",
       "1  Cumings, Mrs. John Bradley (Florence Briggs Th...  female  38.0      1   \n",
       "2                             Heikkinen, Miss. Laina  female  26.0      0   \n",
       "3       Futrelle, Mrs. Jacques Heath (Lily May Peel)  female  35.0      1   \n",
       "4                           Allen, Mr. William Henry    male  35.0      0   \n",
       "\n",
       "   Parch            Ticket     Fare Cabin Embarked  \n",
       "0      0         A/5 21171   7.2500   NaN        S  \n",
       "1      0          PC 17599  71.2833   C85        C  \n",
       "2      0  STON/O2. 3101282   7.9250   NaN        S  \n",
       "3      0            113803  53.1000  C123        S  \n",
       "4      0            373450   8.0500   NaN        S  "
      ]
     },
     "execution_count": 28,
     "metadata": {},
     "output_type": "execute_result"
    }
   ],
   "source": [
    "df.head()"
   ]
  },
  {
   "cell_type": "code",
   "execution_count": 10,
   "metadata": {
    "collapsed": false
   },
   "outputs": [
    {
     "data": {
      "text/plain": [
       "<matplotlib.axes._subplots.AxesSubplot at 0x113883048>"
      ]
     },
     "execution_count": 10,
     "metadata": {},
     "output_type": "execute_result"
    },
    {
     "data": {
      "image/png": "[encoded data removed]",
      "text/plain": [
       "<matplotlib.figure.Figure at 0x1138b0908>"
      ]
     },
     "metadata": {},
     "output_type": "display_data"
    }
   ],
   "source": [
    "df['Age'].hist()"
   ]
  },
  {
   "cell_type": "code",
   "execution_count": 87,
   "metadata": {
    "collapsed": false
   },
   "outputs": [
    {
     "name": "stdout",
     "output_type": "stream",
     "text": [
      "--2018-03-24 18:57:26--  http://bvmf.bmfbovespa.com.br/InstDados/SerHist/COTAHIST_A2010.zip\n",
      "Resolving bvmf.bmfbovespa.com.br... 177.54.222.61\n",
      "Connecting to bvmf.bmfbovespa.com.br|177.54.222.61|:80... connected.\n",
      "HTTP request sent, awaiting response... 200 OK\n",
      "Length: 10385444 (9.9M) [application/x-zip-compressed]\n",
      "Saving to: ‘COTAHIST_A2010.zip.1’\n",
      "\n",
      "COTAHIST_A2010.zip. 100%[===================>]   9.90M   937KB/s    in 14s     \n",
      "\n",
      "2018-03-24 18:57:40 (746 KB/s) - ‘COTAHIST_A2010.zip.1’ saved [10385444/10385444]\n",
      "\n",
      "--2018-03-24 18:57:40--  http://bvmf.bmfbovespa.com.br/InstDados/SerHist/COTAHIST_A2011.zip\n",
      "Resolving bvmf.bmfbovespa.com.br... 177.54.222.61\n",
      "Connecting to bvmf.bmfbovespa.com.br|177.54.222.61|:80... connected.\n",
      "HTTP request sent, awaiting response... 200 OK\n",
      "Length: 10856136 (10M) [application/x-zip-compressed]\n",
      "Saving to: ‘COTAHIST_A2011.zip.1’\n",
      "\n",
      "COTAHIST_A2011.zip. 100%[===================>]  10.35M   764KB/s    in 13s     \n",
      "\n",
      "2018-03-24 18:57:53 (823 KB/s) - ‘COTAHIST_A2011.zip.1’ saved [10856136/10856136]\n",
      "\n",
      "--2018-03-24 18:57:53--  http://bvmf.bmfbovespa.com.br/InstDados/SerHist/COTAHIST_A2012.zip\n",
      "Resolving bvmf.bmfbovespa.com.br... 177.54.222.61\n",
      "Connecting to bvmf.bmfbovespa.com.br|177.54.222.61|:80... connected.\n",
      "HTTP request sent, awaiting response... 200 OK\n",
      "Length: 11883689 (11M) [application/x-zip-compressed]\n",
      "Saving to: ‘COTAHIST_A2012.zip.1’\n",
      "\n",
      "COTAHIST_A2012.zip. 100%[===================>]  11.33M   436KB/s    in 22s     \n",
      "\n",
      "2018-03-24 18:58:15 (539 KB/s) - ‘COTAHIST_A2012.zip.1’ saved [11883689/11883689]\n",
      "\n",
      "--2018-03-24 18:58:15--  http://bvmf.bmfbovespa.com.br/InstDados/SerHist/COTAHIST_A2013.zip\n",
      "Resolving bvmf.bmfbovespa.com.br... 177.54.220.61\n",
      "Connecting to bvmf.bmfbovespa.com.br|177.54.220.61|:80... connected.\n",
      "HTTP request sent, awaiting response... 200 OK\n",
      "Length: 13300034 (13M) [application/x-zip-compressed]\n",
      "Saving to: ‘COTAHIST_A2013.zip.1’\n",
      "\n",
      "COTAHIST_A2013.zip. 100%[===================>]  12.68M   983KB/s    in 16s     \n",
      "\n",
      "2018-03-24 18:58:31 (802 KB/s) - ‘COTAHIST_A2013.zip.1’ saved [13300034/13300034]\n",
      "\n",
      "--2018-03-24 18:58:31--  http://bvmf.bmfbovespa.com.br/InstDados/SerHist/COTAHIST_A2014.zip\n",
      "Resolving bvmf.bmfbovespa.com.br... 177.54.220.61\n",
      "Connecting to bvmf.bmfbovespa.com.br|177.54.220.61|:80... connected.\n",
      "HTTP request sent, awaiting response... 200 OK\n",
      "Length: 13684612 (13M) [application/x-zip-compressed]\n",
      "Saving to: ‘COTAHIST_A2014.zip.1’\n",
      "\n",
      "COTAHIST_A2014.zip. 100%[===================>]  13.05M  1.31MB/s    in 18s     \n",
      "\n",
      "2018-03-24 18:58:50 (730 KB/s) - ‘COTAHIST_A2014.zip.1’ saved [13684612/13684612]\n",
      "\n",
      "--2018-03-24 18:58:50--  http://bvmf.bmfbovespa.com.br/InstDados/SerHist/COTAHIST_A2015.zip\n",
      "Resolving bvmf.bmfbovespa.com.br... 177.54.220.61\n",
      "Connecting to bvmf.bmfbovespa.com.br|177.54.220.61|:80... connected.\n",
      "HTTP request sent, awaiting response... 200 OK\n",
      "Length: 14129467 (13M) [application/x-zip-compressed]\n",
      "Saving to: ‘COTAHIST_A2015.zip.1’\n",
      "\n",
      "COTAHIST_A2015.zip. 100%[===================>]  13.47M  1.73MB/s    in 7.9s    \n",
      "\n",
      "2018-03-24 18:58:58 (1.70 MB/s) - ‘COTAHIST_A2015.zip.1’ saved [14129467/14129467]\n",
      "\n",
      "--2018-03-24 18:58:58--  http://bvmf.bmfbovespa.com.br/InstDados/SerHist/COTAHIST_A2016.zip\n",
      "Resolving bvmf.bmfbovespa.com.br... 177.54.220.61\n",
      "Connecting to bvmf.bmfbovespa.com.br|177.54.220.61|:80... connected.\n",
      "HTTP request sent, awaiting response... 200 OK\n",
      "Length: 15715361 (15M) [application/x-zip-compressed]\n",
      "Saving to: ‘COTAHIST_A2016.zip.2’\n",
      "\n",
      "COTAHIST_A2016.zip. 100%[===================>]  14.99M  1.72MB/s    in 8.8s    \n",
      "\n",
      "2018-03-24 18:59:07 (1.70 MB/s) - ‘COTAHIST_A2016.zip.2’ saved [15715361/15715361]\n",
      "\n",
      "--2018-03-24 18:59:07--  http://bvmf.bmfbovespa.com.br/InstDados/SerHist/COTAHIST_A2017.zip\n",
      "Resolving bvmf.bmfbovespa.com.br... 177.54.220.61\n",
      "Connecting to bvmf.bmfbovespa.com.br|177.54.220.61|:80... connected.\n",
      "HTTP request sent, awaiting response... 200 OK\n",
      "Length: 16527191 (16M) [application/x-zip-compressed]\n",
      "Saving to: ‘COTAHIST_A2017.zip.1’\n",
      "\n",
      "COTAHIST_A2017.zip. 100%[===================>]  15.76M  1.70MB/s    in 9.5s    \n",
      "\n",
      "2018-03-24 18:59:17 (1.66 MB/s) - ‘COTAHIST_A2017.zip.1’ saved [16527191/16527191]\n",
      "\n"
     ]
    }
   ],
   "source": [
    "url = \"bvmf.bmfbovespa.com.br/InstDados/SerHist/COTAHIST_A{}.zip\"\n",
    "for year in range(2010,2018):\n",
    "    !wget {url.format(year)}\n",
    "    "
   ]
  },
  {
   "cell_type": "code",
   "execution_count": 94,
   "metadata": {
    "collapsed": false
   },
   "outputs": [
    {
     "name": "stdout",
     "output_type": "stream",
     "text": [
      "Archive:  COTAHIST_A2010.zip\n",
      "  End-of-central-directory signature not found.  Either this file is not\n",
      "  a zipfile, or it constitutes one disk of a multi-part archive.  In the\n",
      "  latter case the central directory and zipfile comment will be found on\n",
      "  the last disk(s) of this archive.\n",
      "unzip:  cannot find zipfile directory in one of COTAHIST_A2010.zip or\n",
      "        COTAHIST_A2010.zip.zip, and cannot find COTAHIST_A2010.zip.ZIP, period.\n",
      "Archive:  COTAHIST_A2011.zip\n",
      "  End-of-central-directory signature not found.  Either this file is not\n",
      "  a zipfile, or it constitutes one disk of a multi-part archive.  In the\n",
      "  latter case the central directory and zipfile comment will be found on\n",
      "  the last disk(s) of this archive.\n",
      "unzip:  cannot find zipfile directory in one of COTAHIST_A2011.zip or\n",
      "        COTAHIST_A2011.zip.zip, and cannot find COTAHIST_A2011.zip.ZIP, period.\n"
     ]
    }
   ],
   "source": [
    "url = \"COTAHIST_A{}.zip\"\n",
    "for year in range(2010,2012):\n",
    "    !unzip {url.format(year)}"
   ]
  },
  {
   "cell_type": "code",
   "execution_count": 96,
   "metadata": {
    "collapsed": false
   },
   "outputs": [],
   "source": [
    "files = !ls *.TXT"
   ]
  },
  {
   "cell_type": "code",
   "execution_count": 97,
   "metadata": {
    "collapsed": false
   },
   "outputs": [
    {
     "data": {
      "text/plain": [
       "['COTAHIST_A2013.TXT',\n",
       " 'COTAHIST_A2014.TXT',\n",
       " 'COTAHIST_A2015.TXT',\n",
       " 'COTAHIST_A2016.TXT',\n",
       " 'COTAHIST_A2017.TXT']"
      ]
     },
     "execution_count": 97,
     "metadata": {},
     "output_type": "execute_result"
    }
   ],
   "source": [
    "files"
   ]
  },
  {
   "cell_type": "code",
   "execution_count": 49,
   "metadata": {
    "collapsed": true
   },
   "outputs": [],
   "source": []
  },
  {
   "cell_type": "code",
   "execution_count": 101,
   "metadata": {
    "collapsed": false
   },
   "outputs": [],
   "source": [
    "def convert_to_object(line):\n",
    "    obj = {\n",
    "        'data': datetime.strptime(line[2:10], '%Y%m%d') if line[2:10] != 'COTAHIST' else 0,\n",
    "        'ticker': line[12:24].strip(),\n",
    "        'preco': float(line[108:121])/100 if line[108:121] != ''else 0\n",
    "    }\n",
    "    \n",
    "    return obj"
   ]
  },
  {
   "cell_type": "code",
   "execution_count": 102,
   "metadata": {
    "collapsed": false
   },
   "outputs": [],
   "source": [
    "def convert_to_dataframe(file_name):\n",
    "    dados = []\n",
    "    first = True\n",
    "    with open(file_name, 'r') as f:\n",
    "        for line in f:\n",
    "            if first:\n",
    "                first=False\n",
    "            else:\n",
    "                obj = convert_to_object(line.strip())\n",
    "                dados.append(obj)\n",
    "    df = pd.DataFrame(dados)\n",
    "    df.index = df['data']\n",
    "    del df['data']\n",
    "    \n",
    "    return df"
   ]
  },
  {
   "cell_type": "code",
   "execution_count": 110,
   "metadata": {
    "collapsed": false
   },
   "outputs": [],
   "source": [
    "dataframes = []\n",
    "for file in files[2:]:\n",
    "    dataframes.append(convert_to_dataframe(file))"
   ]
  },
  {
   "cell_type": "code",
   "execution_count": 113,
   "metadata": {
    "collapsed": false
   },
   "outputs": [],
   "source": [
    "df = pd.concat(dataframes)"
   ]
  },
  {
   "cell_type": "code",
   "execution_count": 81,
   "metadata": {
    "collapsed": false
   },
   "outputs": [
    {
     "data": {
      "text/html": [
       "<div>\n",
       "<style scoped>\n",
       "    .dataframe tbody tr th:only-of-type {\n",
       "        vertical-align: middle;\n",
       "    }\n",
       "\n",
       "    .dataframe tbody tr th {\n",
       "        vertical-align: top;\n",
       "    }\n",
       "\n",
       "    .dataframe thead th {\n",
       "        text-align: right;\n",
       "    }\n",
       "</style>\n",
       "<table border=\"1\" class=\"dataframe\">\n",
       "  <thead>\n",
       "    <tr style=\"text-align: right;\">\n",
       "      <th></th>\n",
       "      <th>nome</th>\n",
       "      <th>preco</th>\n",
       "      <th>ticker</th>\n",
       "    </tr>\n",
       "    <tr>\n",
       "      <th>data</th>\n",
       "      <th></th>\n",
       "      <th></th>\n",
       "      <th></th>\n",
       "    </tr>\n",
       "  </thead>\n",
       "  <tbody>\n",
       "    <tr>\n",
       "      <th>2013-01-02 00:00:00</th>\n",
       "      <td>APPLE</td>\n",
       "      <td>112.00</td>\n",
       "      <td>AAPL11B</td>\n",
       "    </tr>\n",
       "    <tr>\n",
       "      <th>2013-01-02 00:00:00</th>\n",
       "      <td>ABC BRASIL</td>\n",
       "      <td>14.15</td>\n",
       "      <td>ABCB4</td>\n",
       "    </tr>\n",
       "    <tr>\n",
       "      <th>2013-01-02 00:00:00</th>\n",
       "      <td>ABC BRASIL</td>\n",
       "      <td>14.13</td>\n",
       "      <td>ABCB4F</td>\n",
       "    </tr>\n",
       "    <tr>\n",
       "      <th>2013-01-02 00:00:00</th>\n",
       "      <td>ABRIL EDUCA</td>\n",
       "      <td>40.97</td>\n",
       "      <td>ABRE11</td>\n",
       "    </tr>\n",
       "    <tr>\n",
       "      <th>2013-01-02 00:00:00</th>\n",
       "      <td>ABRIL EDUCA</td>\n",
       "      <td>41.10</td>\n",
       "      <td>ABRE11F</td>\n",
       "    </tr>\n",
       "  </tbody>\n",
       "</table>\n",
       "</div>"
      ],
      "text/plain": [
       "                            nome   preco   ticker\n",
       "data                                             \n",
       "2013-01-02 00:00:00        APPLE  112.00  AAPL11B\n",
       "2013-01-02 00:00:00   ABC BRASIL   14.15    ABCB4\n",
       "2013-01-02 00:00:00   ABC BRASIL   14.13   ABCB4F\n",
       "2013-01-02 00:00:00  ABRIL EDUCA   40.97   ABRE11\n",
       "2013-01-02 00:00:00  ABRIL EDUCA   41.10  ABRE11F"
      ]
     },
     "execution_count": 81,
     "metadata": {},
     "output_type": "execute_result"
    }
   ],
   "source": [
    "df.head()"
   ]
  },
  {
   "cell_type": "code",
   "execution_count": 117,
   "metadata": {
    "collapsed": false
   },
   "outputs": [
    {
     "data": {
      "text/plain": [
       "<matplotlib.axes._subplots.AxesSubplot at 0x15d98cb00>"
      ]
     },
     "execution_count": 117,
     "metadata": {},
     "output_type": "execute_result"
    },
    {
     "data": {
      "image/png": "[encoded data removed]",
      "text/plain": [
       "<matplotlib.figure.Figure at 0x15d9977b8>"
      ]
     },
     "metadata": {},
     "output_type": "display_data"
    }
   ],
   "source": [
    "df[df['ticker'] == 'HGTX3'].plot()"
   ]
  },
  {
   "cell_type": "code",
   "execution_count": 42,
   "metadata": {
    "collapsed": false
   },
   "outputs": [
    {
     "data": {
      "text/plain": [
       "(378918, 2)"
      ]
     },
     "execution_count": 42,
     "metadata": {},
     "output_type": "execute_result"
    }
   ],
   "source": [
    "df.shape"
   ]
  },
  {
   "cell_type": "code",
   "execution_count": 44,
   "metadata": {
    "collapsed": false
   },
   "outputs": [
    {
     "data": {
      "text/plain": [
       "<matplotlib.axes._subplots.AxesSubplot at 0x11f55d908>"
      ]
     },
     "execution_count": 44,
     "metadata": {},
     "output_type": "execute_result"
    },
    {
     "data": {
      "image/png": "[encoded data removed]",
      "text/plain": [
       "<matplotlib.figure.Figure at 0x11f576940>"
      ]
     },
     "metadata": {},
     "output_type": "display_data"
    }
   ],
   "source": [
    "df[df['nome'] == 'APPLE'].plot()"
   ]
  },
  {
   "cell_type": "code",
   "execution_count": 33,
   "metadata": {
    "collapsed": false
   },
   "outputs": [
    {
     "data": {
      "text/plain": [
       "'APPLE       '"
      ]
     },
     "execution_count": 33,
     "metadata": {},
     "output_type": "execute_result"
    }
   ],
   "source": [
    "df.iloc[0, 0]"
   ]
  },
  {
   "cell_type": "code",
   "execution_count": 28,
   "metadata": {
    "collapsed": false
   },
   "outputs": [
    {
     "data": {
      "text/html": [
       "<div>\n",
       "<style scoped>\n",
       "    .dataframe tbody tr th:only-of-type {\n",
       "        vertical-align: middle;\n",
       "    }\n",
       "\n",
       "    .dataframe tbody tr th {\n",
       "        vertical-align: top;\n",
       "    }\n",
       "\n",
       "    .dataframe thead th {\n",
       "        text-align: right;\n",
       "    }\n",
       "</style>\n",
       "<table border=\"1\" class=\"dataframe\">\n",
       "  <thead>\n",
       "    <tr style=\"text-align: right;\">\n",
       "      <th></th>\n",
       "      <th>nome</th>\n",
       "      <th>preco</th>\n",
       "    </tr>\n",
       "  </thead>\n",
       "  <tbody>\n",
       "    <tr>\n",
       "      <th>0</th>\n",
       "      <td>APPLE</td>\n",
       "      <td>112.00</td>\n",
       "    </tr>\n",
       "    <tr>\n",
       "      <th>1</th>\n",
       "      <td>ABC BRASIL</td>\n",
       "      <td>14.15</td>\n",
       "    </tr>\n",
       "    <tr>\n",
       "      <th>2</th>\n",
       "      <td>ABC BRASIL</td>\n",
       "      <td>14.13</td>\n",
       "    </tr>\n",
       "    <tr>\n",
       "      <th>3</th>\n",
       "      <td>ABRIL EDUCA</td>\n",
       "      <td>40.97</td>\n",
       "    </tr>\n",
       "    <tr>\n",
       "      <th>4</th>\n",
       "      <td>ABRIL EDUCA</td>\n",
       "      <td>41.10</td>\n",
       "    </tr>\n",
       "    <tr>\n",
       "      <th>5</th>\n",
       "      <td>ANHANGUERA</td>\n",
       "      <td>36.62</td>\n",
       "    </tr>\n",
       "    <tr>\n",
       "      <th>6</th>\n",
       "      <td>ANHANGUERA</td>\n",
       "      <td>36.60</td>\n",
       "    </tr>\n",
       "    <tr>\n",
       "      <th>7</th>\n",
       "      <td>ANHANGUERA</td>\n",
       "      <td>37.68</td>\n",
       "    </tr>\n",
       "    <tr>\n",
       "      <th>8</th>\n",
       "      <td>AEDU</td>\n",
       "      <td>0.71</td>\n",
       "    </tr>\n",
       "    <tr>\n",
       "      <th>9</th>\n",
       "      <td>FII AESAPAR</td>\n",
       "      <td>119.69</td>\n",
       "    </tr>\n",
       "    <tr>\n",
       "      <th>10</th>\n",
       "      <td>AES ELPA</td>\n",
       "      <td>14.70</td>\n",
       "    </tr>\n",
       "    <tr>\n",
       "      <th>11</th>\n",
       "      <td>AFLUENTE T</td>\n",
       "      <td>3.11</td>\n",
       "    </tr>\n",
       "    <tr>\n",
       "      <th>12</th>\n",
       "      <td>FII AG CAIXA</td>\n",
       "      <td>1140.00</td>\n",
       "    </tr>\n",
       "    <tr>\n",
       "      <th>13</th>\n",
       "      <td>AGRENCO</td>\n",
       "      <td>0.24</td>\n",
       "    </tr>\n",
       "    <tr>\n",
       "      <th>14</th>\n",
       "      <td>BRASILAGRO</td>\n",
       "      <td>10.09</td>\n",
       "    </tr>\n",
       "    <tr>\n",
       "      <th>15</th>\n",
       "      <td>BRASILAGRO</td>\n",
       "      <td>9.40</td>\n",
       "    </tr>\n",
       "    <tr>\n",
       "      <th>16</th>\n",
       "      <td>BRASILAGRO</td>\n",
       "      <td>10.15</td>\n",
       "    </tr>\n",
       "    <tr>\n",
       "      <th>17</th>\n",
       "      <td>ALL AMER LAT</td>\n",
       "      <td>8.60</td>\n",
       "    </tr>\n",
       "    <tr>\n",
       "      <th>18</th>\n",
       "      <td>ALL AMER LAT</td>\n",
       "      <td>8.56</td>\n",
       "    </tr>\n",
       "    <tr>\n",
       "      <th>19</th>\n",
       "      <td>ALL AMER LAT</td>\n",
       "      <td>8.66</td>\n",
       "    </tr>\n",
       "    <tr>\n",
       "      <th>20</th>\n",
       "      <td>ALL AMER LAT</td>\n",
       "      <td>8.70</td>\n",
       "    </tr>\n",
       "    <tr>\n",
       "      <th>21</th>\n",
       "      <td>ALL AMER LAT</td>\n",
       "      <td>8.70</td>\n",
       "    </tr>\n",
       "    <tr>\n",
       "      <th>22</th>\n",
       "      <td>FII TORRE AL</td>\n",
       "      <td>3770.00</td>\n",
       "    </tr>\n",
       "    <tr>\n",
       "      <th>23</th>\n",
       "      <td>ALPARGATAS</td>\n",
       "      <td>15.16</td>\n",
       "    </tr>\n",
       "    <tr>\n",
       "      <th>24</th>\n",
       "      <td>ALPARGATAS</td>\n",
       "      <td>15.26</td>\n",
       "    </tr>\n",
       "    <tr>\n",
       "      <th>25</th>\n",
       "      <td>ALIANSCE</td>\n",
       "      <td>24.55</td>\n",
       "    </tr>\n",
       "    <tr>\n",
       "      <th>26</th>\n",
       "      <td>ALIANSCE</td>\n",
       "      <td>24.73</td>\n",
       "    </tr>\n",
       "    <tr>\n",
       "      <th>27</th>\n",
       "      <td>LOJAS MARISA</td>\n",
       "      <td>32.63</td>\n",
       "    </tr>\n",
       "    <tr>\n",
       "      <th>28</th>\n",
       "      <td>LOJAS MARISA</td>\n",
       "      <td>32.65</td>\n",
       "    </tr>\n",
       "    <tr>\n",
       "      <th>29</th>\n",
       "      <td>LOJAS MARISA</td>\n",
       "      <td>32.97</td>\n",
       "    </tr>\n",
       "    <tr>\n",
       "      <th>...</th>\n",
       "      <td>...</td>\n",
       "      <td>...</td>\n",
       "    </tr>\n",
       "    <tr>\n",
       "      <th>70</th>\n",
       "      <td>BBAS</td>\n",
       "      <td>4.30</td>\n",
       "    </tr>\n",
       "    <tr>\n",
       "      <th>71</th>\n",
       "      <td>BBAS</td>\n",
       "      <td>3.23</td>\n",
       "    </tr>\n",
       "    <tr>\n",
       "      <th>72</th>\n",
       "      <td>BBAS  FM</td>\n",
       "      <td>2.34</td>\n",
       "    </tr>\n",
       "    <tr>\n",
       "      <th>73</th>\n",
       "      <td>BBAS  FM</td>\n",
       "      <td>23.64</td>\n",
       "    </tr>\n",
       "    <tr>\n",
       "      <th>74</th>\n",
       "      <td>BBAS  FM</td>\n",
       "      <td>1.44</td>\n",
       "    </tr>\n",
       "    <tr>\n",
       "      <th>75</th>\n",
       "      <td>BBAS  FM</td>\n",
       "      <td>0.80</td>\n",
       "    </tr>\n",
       "    <tr>\n",
       "      <th>76</th>\n",
       "      <td>BBAS  FM</td>\n",
       "      <td>0.21</td>\n",
       "    </tr>\n",
       "    <tr>\n",
       "      <th>77</th>\n",
       "      <td>BBAS  FM</td>\n",
       "      <td>0.08</td>\n",
       "    </tr>\n",
       "    <tr>\n",
       "      <th>78</th>\n",
       "      <td>BBAS</td>\n",
       "      <td>4.44</td>\n",
       "    </tr>\n",
       "    <tr>\n",
       "      <th>79</th>\n",
       "      <td>BBAS</td>\n",
       "      <td>3.51</td>\n",
       "    </tr>\n",
       "    <tr>\n",
       "      <th>80</th>\n",
       "      <td>BBAS  FM</td>\n",
       "      <td>2.58</td>\n",
       "    </tr>\n",
       "    <tr>\n",
       "      <th>81</th>\n",
       "      <td>BBAS  FM</td>\n",
       "      <td>1.93</td>\n",
       "    </tr>\n",
       "    <tr>\n",
       "      <th>82</th>\n",
       "      <td>BBAS  FM</td>\n",
       "      <td>1.26</td>\n",
       "    </tr>\n",
       "    <tr>\n",
       "      <th>83</th>\n",
       "      <td>BBAS  FM</td>\n",
       "      <td>0.80</td>\n",
       "    </tr>\n",
       "    <tr>\n",
       "      <th>84</th>\n",
       "      <td>BBAS  FM</td>\n",
       "      <td>0.39</td>\n",
       "    </tr>\n",
       "    <tr>\n",
       "      <th>85</th>\n",
       "      <td>BBASE</td>\n",
       "      <td>0.03</td>\n",
       "    </tr>\n",
       "    <tr>\n",
       "      <th>86</th>\n",
       "      <td>BBASE</td>\n",
       "      <td>0.03</td>\n",
       "    </tr>\n",
       "    <tr>\n",
       "      <th>87</th>\n",
       "      <td>BBASE</td>\n",
       "      <td>0.04</td>\n",
       "    </tr>\n",
       "    <tr>\n",
       "      <th>88</th>\n",
       "      <td>BBASE FM</td>\n",
       "      <td>0.06</td>\n",
       "    </tr>\n",
       "    <tr>\n",
       "      <th>89</th>\n",
       "      <td>BBASE FM</td>\n",
       "      <td>0.12</td>\n",
       "    </tr>\n",
       "    <tr>\n",
       "      <th>90</th>\n",
       "      <td>BBASE FM</td>\n",
       "      <td>0.25</td>\n",
       "    </tr>\n",
       "    <tr>\n",
       "      <th>91</th>\n",
       "      <td>BBASE FM</td>\n",
       "      <td>0.57</td>\n",
       "    </tr>\n",
       "    <tr>\n",
       "      <th>92</th>\n",
       "      <td>BBASE FM</td>\n",
       "      <td>0.21</td>\n",
       "    </tr>\n",
       "    <tr>\n",
       "      <th>93</th>\n",
       "      <td>BBASE FM</td>\n",
       "      <td>0.38</td>\n",
       "    </tr>\n",
       "    <tr>\n",
       "      <th>94</th>\n",
       "      <td>BBASE FM</td>\n",
       "      <td>0.60</td>\n",
       "    </tr>\n",
       "    <tr>\n",
       "      <th>95</th>\n",
       "      <td>BBASE FM</td>\n",
       "      <td>0.98</td>\n",
       "    </tr>\n",
       "    <tr>\n",
       "      <th>96</th>\n",
       "      <td>BRADESCO</td>\n",
       "      <td>35.11</td>\n",
       "    </tr>\n",
       "    <tr>\n",
       "      <th>97</th>\n",
       "      <td>BRADESCO</td>\n",
       "      <td>35.01</td>\n",
       "    </tr>\n",
       "    <tr>\n",
       "      <th>98</th>\n",
       "      <td>BRADESCO</td>\n",
       "      <td>36.02</td>\n",
       "    </tr>\n",
       "    <tr>\n",
       "      <th>99</th>\n",
       "      <td>BRADESCO</td>\n",
       "      <td>36.01</td>\n",
       "    </tr>\n",
       "  </tbody>\n",
       "</table>\n",
       "<p>100 rows × 2 columns</p>\n",
       "</div>"
      ],
      "text/plain": [
       "            nome    preco\n",
       "0   APPLE          112.00\n",
       "1   ABC BRASIL      14.15\n",
       "2   ABC BRASIL      14.13\n",
       "3   ABRIL EDUCA     40.97\n",
       "4   ABRIL EDUCA     41.10\n",
       "5   ANHANGUERA      36.62\n",
       "6   ANHANGUERA      36.60\n",
       "7   ANHANGUERA      37.68\n",
       "8   AEDU             0.71\n",
       "9   FII AESAPAR    119.69\n",
       "10  AES ELPA        14.70\n",
       "11  AFLUENTE T       3.11\n",
       "12  FII AG CAIXA  1140.00\n",
       "13  AGRENCO          0.24\n",
       "14  BRASILAGRO      10.09\n",
       "15  BRASILAGRO       9.40\n",
       "16  BRASILAGRO      10.15\n",
       "17  ALL AMER LAT     8.60\n",
       "18  ALL AMER LAT     8.56\n",
       "19  ALL AMER LAT     8.66\n",
       "20  ALL AMER LAT     8.70\n",
       "21  ALL AMER LAT     8.70\n",
       "22  FII TORRE AL  3770.00\n",
       "23  ALPARGATAS      15.16\n",
       "24  ALPARGATAS      15.26\n",
       "25  ALIANSCE        24.55\n",
       "26  ALIANSCE        24.73\n",
       "27  LOJAS MARISA    32.63\n",
       "28  LOJAS MARISA    32.65\n",
       "29  LOJAS MARISA    32.97\n",
       "..           ...      ...\n",
       "70  BBAS             4.30\n",
       "71  BBAS             3.23\n",
       "72  BBAS  FM         2.34\n",
       "73  BBAS  FM        23.64\n",
       "74  BBAS  FM         1.44\n",
       "75  BBAS  FM         0.80\n",
       "76  BBAS  FM         0.21\n",
       "77  BBAS  FM         0.08\n",
       "78  BBAS             4.44\n",
       "79  BBAS             3.51\n",
       "80  BBAS  FM         2.58\n",
       "81  BBAS  FM         1.93\n",
       "82  BBAS  FM         1.26\n",
       "83  BBAS  FM         0.80\n",
       "84  BBAS  FM         0.39\n",
       "85  BBASE            0.03\n",
       "86  BBASE            0.03\n",
       "87  BBASE            0.04\n",
       "88  BBASE FM         0.06\n",
       "89  BBASE FM         0.12\n",
       "90  BBASE FM         0.25\n",
       "91  BBASE FM         0.57\n",
       "92  BBASE FM         0.21\n",
       "93  BBASE FM         0.38\n",
       "94  BBASE FM         0.60\n",
       "95  BBASE FM         0.98\n",
       "96  BRADESCO        35.11\n",
       "97  BRADESCO        35.01\n",
       "98  BRADESCO        36.02\n",
       "99  BRADESCO        36.01\n",
       "\n",
       "[100 rows x 2 columns]"
      ]
     },
     "execution_count": 28,
     "metadata": {},
     "output_type": "execute_result"
    }
   ],
   "source": [
    "df.head(100)"
   ]
  },
  {
   "cell_type": "code",
   "execution_count": 82,
   "metadata": {
    "collapsed": false
   },
   "outputs": [
    {
     "name": "stdout",
     "output_type": "stream",
     "text": [
      "--2018-03-24 18:25:11--  http://bvmf.bmfbovespa.com.br/InstDados/SerHist/COTAHIST_A2016.zip\n",
      "Resolving bvmf.bmfbovespa.com.br... 177.54.222.61\n",
      "Connecting to bvmf.bmfbovespa.com.br|177.54.222.61|:80... connected.\n",
      "HTTP request sent, awaiting response... 200 OK\n",
      "Length: 15715361 (15M) [application/x-zip-compressed]\n",
      "Saving to: ‘COTAHIST_A2016.zip’\n",
      "\n",
      "COTAHIST_A2016.zip  100%[===================>]  14.99M  1.51MB/s    in 9.8s    \n",
      "\n",
      "2018-03-24 18:25:21 (1.52 MB/s) - ‘COTAHIST_A2016.zip’ saved [15715361/15715361]\n",
      "\n"
     ]
    }
   ],
   "source": [
    "!wget bvmf.bmfbovespa.com.br/InstDados/SerHist/COTAHIST_A201.zip"
   ]
  },
  {
   "cell_type": "code",
   "execution_count": 120,
   "metadata": {
    "collapsed": false
   },
   "outputs": [],
   "source": [
    "import quandl"
   ]
  },
  {
   "cell_type": "code",
   "execution_count": 158,
   "metadata": {
    "collapsed": false
   },
   "outputs": [],
   "source": [
    "df1 = quandl.get('BCB/1', start_date='2010-01-01', end_date='2017-12-31')"
   ]
  },
  {
   "cell_type": "code",
   "execution_count": 155,
   "metadata": {
    "collapsed": false
   },
   "outputs": [
    {
     "data": {
      "text/html": [
       "<div>\n",
       "<style scoped>\n",
       "    .dataframe tbody tr th:only-of-type {\n",
       "        vertical-align: middle;\n",
       "    }\n",
       "\n",
       "    .dataframe tbody tr th {\n",
       "        vertical-align: top;\n",
       "    }\n",
       "\n",
       "    .dataframe thead th {\n",
       "        text-align: right;\n",
       "    }\n",
       "</style>\n",
       "<table border=\"1\" class=\"dataframe\">\n",
       "  <thead>\n",
       "    <tr style=\"text-align: right;\">\n",
       "      <th></th>\n",
       "      <th>Value</th>\n",
       "    </tr>\n",
       "    <tr>\n",
       "      <th>Date</th>\n",
       "      <th></th>\n",
       "    </tr>\n",
       "  </thead>\n",
       "  <tbody>\n",
       "    <tr>\n",
       "      <th>2000-01-03</th>\n",
       "      <td>1.8011</td>\n",
       "    </tr>\n",
       "    <tr>\n",
       "      <th>2000-01-04</th>\n",
       "      <td>1.8337</td>\n",
       "    </tr>\n",
       "    <tr>\n",
       "      <th>2000-01-05</th>\n",
       "      <td>1.8544</td>\n",
       "    </tr>\n",
       "    <tr>\n",
       "      <th>2000-01-06</th>\n",
       "      <td>1.8461</td>\n",
       "    </tr>\n",
       "    <tr>\n",
       "      <th>2000-01-07</th>\n",
       "      <td>1.8281</td>\n",
       "    </tr>\n",
       "  </tbody>\n",
       "</table>\n",
       "</div>"
      ],
      "text/plain": [
       "             Value\n",
       "Date              \n",
       "2000-01-03  1.8011\n",
       "2000-01-04  1.8337\n",
       "2000-01-05  1.8544\n",
       "2000-01-06  1.8461\n",
       "2000-01-07  1.8281"
      ]
     },
     "execution_count": 155,
     "metadata": {},
     "output_type": "execute_result"
    }
   ],
   "source": [
    "df1.head()"
   ]
  },
  {
   "cell_type": "code",
   "execution_count": 149,
   "metadata": {
    "collapsed": false
   },
   "outputs": [
    {
     "data": {
      "text/plain": [
       "<matplotlib.axes._subplots.AxesSubplot at 0x147008cc0>"
      ]
     },
     "execution_count": 149,
     "metadata": {},
     "output_type": "execute_result"
    },
    {
     "data": {
      "image/png": "[encoded data removed]",
      "text/plain": [
       "<matplotlib.figure.Figure at 0x155989ac8>"
      ]
     },
     "metadata": {},
     "output_type": "display_data"
    }
   ],
   "source": [
    "df.plot()"
   ]
  },
  {
   "cell_type": "code",
   "execution_count": 255,
   "metadata": {
    "collapsed": false
   },
   "outputs": [],
   "source": [
    "import pandas_datareader.data as web\n",
    "import datetime\n",
    "start = datetime.datetime(2010, 1, 1)\n",
    "end = datetime.datetime(2017, 12, 31)\n",
    "df2 =web.DataReader(\"PETR4.SA\", 'yahoo', start, end)"
   ]
  },
  {
   "cell_type": "code",
   "execution_count": 256,
   "metadata": {
    "collapsed": false
   },
   "outputs": [
    {
     "data": {
      "text/html": [
       "<div>\n",
       "<style scoped>\n",
       "    .dataframe tbody tr th:only-of-type {\n",
       "        vertical-align: middle;\n",
       "    }\n",
       "\n",
       "    .dataframe tbody tr th {\n",
       "        vertical-align: top;\n",
       "    }\n",
       "\n",
       "    .dataframe thead th {\n",
       "        text-align: right;\n",
       "    }\n",
       "</style>\n",
       "<table border=\"1\" class=\"dataframe\">\n",
       "  <thead>\n",
       "    <tr style=\"text-align: right;\">\n",
       "      <th></th>\n",
       "      <th>Open</th>\n",
       "      <th>High</th>\n",
       "      <th>Low</th>\n",
       "      <th>Close</th>\n",
       "      <th>Adj Close</th>\n",
       "      <th>Volume</th>\n",
       "    </tr>\n",
       "    <tr>\n",
       "      <th>Date</th>\n",
       "      <th></th>\n",
       "      <th></th>\n",
       "      <th></th>\n",
       "      <th></th>\n",
       "      <th></th>\n",
       "      <th></th>\n",
       "    </tr>\n",
       "  </thead>\n",
       "  <tbody>\n",
       "    <tr>\n",
       "      <th>2010-01-04</th>\n",
       "      <td>36.950001</td>\n",
       "      <td>37.320000</td>\n",
       "      <td>36.820000</td>\n",
       "      <td>37.320000</td>\n",
       "      <td>33.627335</td>\n",
       "      <td>13303600.0</td>\n",
       "    </tr>\n",
       "    <tr>\n",
       "      <th>2010-01-05</th>\n",
       "      <td>37.380001</td>\n",
       "      <td>37.430000</td>\n",
       "      <td>36.799999</td>\n",
       "      <td>37.000000</td>\n",
       "      <td>33.339001</td>\n",
       "      <td>21396400.0</td>\n",
       "    </tr>\n",
       "    <tr>\n",
       "      <th>2010-01-06</th>\n",
       "      <td>36.799999</td>\n",
       "      <td>37.500000</td>\n",
       "      <td>36.799999</td>\n",
       "      <td>37.500000</td>\n",
       "      <td>33.789528</td>\n",
       "      <td>18720600.0</td>\n",
       "    </tr>\n",
       "    <tr>\n",
       "      <th>2010-01-07</th>\n",
       "      <td>37.270000</td>\n",
       "      <td>37.450001</td>\n",
       "      <td>37.070000</td>\n",
       "      <td>37.150002</td>\n",
       "      <td>33.474155</td>\n",
       "      <td>10964600.0</td>\n",
       "    </tr>\n",
       "    <tr>\n",
       "      <th>2010-01-08</th>\n",
       "      <td>37.160000</td>\n",
       "      <td>37.389999</td>\n",
       "      <td>36.860001</td>\n",
       "      <td>36.950001</td>\n",
       "      <td>33.293945</td>\n",
       "      <td>14624200.0</td>\n",
       "    </tr>\n",
       "  </tbody>\n",
       "</table>\n",
       "</div>"
      ],
      "text/plain": [
       "                 Open       High        Low      Close  Adj Close      Volume\n",
       "Date                                                                         \n",
       "2010-01-04  36.950001  37.320000  36.820000  37.320000  33.627335  13303600.0\n",
       "2010-01-05  37.380001  37.430000  36.799999  37.000000  33.339001  21396400.0\n",
       "2010-01-06  36.799999  37.500000  36.799999  37.500000  33.789528  18720600.0\n",
       "2010-01-07  37.270000  37.450001  37.070000  37.150002  33.474155  10964600.0\n",
       "2010-01-08  37.160000  37.389999  36.860001  36.950001  33.293945  14624200.0"
      ]
     },
     "execution_count": 256,
     "metadata": {},
     "output_type": "execute_result"
    }
   ],
   "source": [
    "df2.head()"
   ]
  },
  {
   "cell_type": "code",
   "execution_count": 257,
   "metadata": {
    "collapsed": true
   },
   "outputs": [],
   "source": [
    "df2['dollar'] = df['Value']"
   ]
  },
  {
   "cell_type": "code",
   "execution_count": 258,
   "metadata": {
    "collapsed": false
   },
   "outputs": [
    {
     "data": {
      "text/html": [
       "<div>\n",
       "<style scoped>\n",
       "    .dataframe tbody tr th:only-of-type {\n",
       "        vertical-align: middle;\n",
       "    }\n",
       "\n",
       "    .dataframe tbody tr th {\n",
       "        vertical-align: top;\n",
       "    }\n",
       "\n",
       "    .dataframe thead th {\n",
       "        text-align: right;\n",
       "    }\n",
       "</style>\n",
       "<table border=\"1\" class=\"dataframe\">\n",
       "  <thead>\n",
       "    <tr style=\"text-align: right;\">\n",
       "      <th></th>\n",
       "      <th>Adj Close</th>\n",
       "      <th>dollar</th>\n",
       "    </tr>\n",
       "    <tr>\n",
       "      <th>Date</th>\n",
       "      <th></th>\n",
       "      <th></th>\n",
       "    </tr>\n",
       "  </thead>\n",
       "  <tbody>\n",
       "    <tr>\n",
       "      <th>2010-01-04</th>\n",
       "      <td>33.627335</td>\n",
       "      <td>1.7240</td>\n",
       "    </tr>\n",
       "    <tr>\n",
       "      <th>2010-01-05</th>\n",
       "      <td>33.339001</td>\n",
       "      <td>1.7227</td>\n",
       "    </tr>\n",
       "    <tr>\n",
       "      <th>2010-01-06</th>\n",
       "      <td>33.789528</td>\n",
       "      <td>1.7337</td>\n",
       "    </tr>\n",
       "    <tr>\n",
       "      <th>2010-01-07</th>\n",
       "      <td>33.474155</td>\n",
       "      <td>1.7413</td>\n",
       "    </tr>\n",
       "    <tr>\n",
       "      <th>2010-01-08</th>\n",
       "      <td>33.293945</td>\n",
       "      <td>1.7390</td>\n",
       "    </tr>\n",
       "  </tbody>\n",
       "</table>\n",
       "</div>"
      ],
      "text/plain": [
       "            Adj Close  dollar\n",
       "Date                         \n",
       "2010-01-04  33.627335  1.7240\n",
       "2010-01-05  33.339001  1.7227\n",
       "2010-01-06  33.789528  1.7337\n",
       "2010-01-07  33.474155  1.7413\n",
       "2010-01-08  33.293945  1.7390"
      ]
     },
     "execution_count": 258,
     "metadata": {},
     "output_type": "execute_result"
    }
   ],
   "source": [
    "df2[['Adj Close', 'dollar']].head()"
   ]
  },
  {
   "cell_type": "code",
   "execution_count": 259,
   "metadata": {
    "collapsed": false
   },
   "outputs": [],
   "source": [
    "df2 = df2.dropna()\n",
    "y_train = df2.loc['2010':'2016', 'Adj Close']\n",
    "y_test = df2.loc['2017-01-01':'2017-12-31', 'Adj Close']\n",
    "x_train = df2.loc['2010':'2016', 'dollar']\n",
    "x_test = df2.loc['2017-01-01':'2017-12-31', 'dollar']\n"
   ]
  },
  {
   "cell_type": "code",
   "execution_count": 260,
   "metadata": {
    "collapsed": false
   },
   "outputs": [],
   "source": [
    "# null_train = x_train.notnull() | y_train.notnull()\n",
    "# null_test = x_test.notnull() | y_test.notnull()\n",
    "\n",
    "# x_train = x_train[null_train]\n",
    "# y_train = y_train[null_train]\n",
    "# x_test = x_test[null_test]\n",
    "# y_test = y_test[null_test]\n"
   ]
  },
  {
   "cell_type": "code",
   "execution_count": 261,
   "metadata": {
    "collapsed": false
   },
   "outputs": [
    {
     "name": "stderr",
     "output_type": "stream",
     "text": [
      "/Users/lucasosouza/anaconda/envs/udacity/lib/python3.5/site-packages/ipykernel/__main__.py:3: FutureWarning: reshape is deprecated and will raise in a subsequent release. Please use .values.reshape(...) instead\n",
      "  app.launch_new_instance()\n"
     ]
    },
    {
     "data": {
      "text/plain": [
       "LinearRegression(copy_X=True, fit_intercept=True, n_jobs=1, normalize=False)"
      ]
     },
     "execution_count": 261,
     "metadata": {},
     "output_type": "execute_result"
    }
   ],
   "source": [
    "from sklearn.linear_model import LinearRegression\n",
    "model = LinearRegression()\n",
    "model.fit(x_train.reshape((-1,1)), y_train)"
   ]
  },
  {
   "cell_type": "code",
   "execution_count": 262,
   "metadata": {
    "collapsed": false
   },
   "outputs": [
    {
     "name": "stderr",
     "output_type": "stream",
     "text": [
      "/Users/lucasosouza/anaconda/envs/udacity/lib/python3.5/site-packages/ipykernel/__main__.py:1: FutureWarning: reshape is deprecated and will raise in a subsequent release. Please use .values.reshape(...) instead\n",
      "  if __name__ == '__main__':\n"
     ]
    }
   ],
   "source": [
    "pred = model.predict(x_test.reshape(-1,1))"
   ]
  },
  {
   "cell_type": "code",
   "execution_count": 267,
   "metadata": {
    "collapsed": false
   },
   "outputs": [
    {
     "data": {
      "text/plain": [
       "[<matplotlib.lines.Line2D at 0x1542f2898>]"
      ]
     },
     "execution_count": 267,
     "metadata": {},
     "output_type": "execute_result"
    },
    {
     "data": {
      "image/png": "[encoded data removed]",
      "text/plain": [
       "<matplotlib.figure.Figure at 0x15a7ffc18>"
      ]
     },
     "metadata": {},
     "output_type": "display_data"
    }
   ],
   "source": [
    "plt.figure(figsize=(20,10))\n",
    "plt.plot(y_test, color='blue')\n",
    "plt.plot(pd.Series(pred, index=y_test.index), color='red')"
   ]
  },
  {
   "cell_type": "code",
   "execution_count": 58,
   "metadata": {
    "collapsed": false
   },
   "outputs": [
    {
     "data": {
      "text/plain": [
       "<matplotlib.axes._subplots.AxesSubplot at 0x11af7f6d8>"
      ]
     },
     "execution_count": 58,
     "metadata": {},
     "output_type": "execute_result"
    },
    {
     "data": {
      "image/png": "[encoded data removed]",
      "text/plain": [
       "<matplotlib.figure.Figure at 0x11af7f6a0>"
      ]
     },
     "metadata": {},
     "output_type": "display_data"
    }
   ],
   "source": [
    "import seaborn as sns\n",
    "plt.figure(figsize=(20,10))\n",
    "sns.tsplot(df['Value'])"
   ]
  },
  {
   "cell_type": "code",
   "execution_count": 80,
   "metadata": {
    "collapsed": false
   },
   "outputs": [],
   "source": [
    "df = pd.read_excel('2014_03_23 Valuation Naoum.xlsx', sheet_name='DF', skiprows=1)"
   ]
  },
  {
   "cell_type": "code",
   "execution_count": 81,
   "metadata": {
    "collapsed": false
   },
   "outputs": [
    {
     "data": {
      "text/html": [
       "<div>\n",
       "<style scoped>\n",
       "    .dataframe tbody tr th:only-of-type {\n",
       "        vertical-align: middle;\n",
       "    }\n",
       "\n",
       "    .dataframe tbody tr th {\n",
       "        vertical-align: top;\n",
       "    }\n",
       "\n",
       "    .dataframe thead th {\n",
       "        text-align: right;\n",
       "    }\n",
       "</style>\n",
       "<table border=\"1\" class=\"dataframe\">\n",
       "  <thead>\n",
       "    <tr style=\"text-align: right;\">\n",
       "      <th></th>\n",
       "      <th>Unnamed: 0</th>\n",
       "      <th>BALANCE SHEET</th>\n",
       "      <th>2010</th>\n",
       "      <th>2011</th>\n",
       "      <th>2012</th>\n",
       "      <th>2013</th>\n",
       "      <th>2014</th>\n",
       "      <th>2015</th>\n",
       "      <th>2016</th>\n",
       "      <th>2017</th>\n",
       "      <th>...</th>\n",
       "      <th>2019</th>\n",
       "      <th>2020</th>\n",
       "      <th>2021</th>\n",
       "      <th>2022</th>\n",
       "      <th>2023</th>\n",
       "      <th>Unnamed: 16</th>\n",
       "      <th>Unnamed: 17</th>\n",
       "      <th>Unnamed: 18</th>\n",
       "      <th>Unnamed: 19</th>\n",
       "      <th>Unnamed: 20</th>\n",
       "    </tr>\n",
       "  </thead>\n",
       "  <tbody>\n",
       "    <tr>\n",
       "      <th>0</th>\n",
       "      <td>NaN</td>\n",
       "      <td>ASSETS</td>\n",
       "      <td>50293</td>\n",
       "      <td>49632.15084</td>\n",
       "      <td>48194</td>\n",
       "      <td>53596.104673</td>\n",
       "      <td>61506.664438</td>\n",
       "      <td>67012.504217</td>\n",
       "      <td>72585.035079</td>\n",
       "      <td>78801.618811</td>\n",
       "      <td>...</td>\n",
       "      <td>92127.875209</td>\n",
       "      <td>99452.412995</td>\n",
       "      <td>107149.672859</td>\n",
       "      <td>115414.405433</td>\n",
       "      <td>122503.382770</td>\n",
       "      <td>NaN</td>\n",
       "      <td>NaN</td>\n",
       "      <td>NaN</td>\n",
       "      <td>NaN</td>\n",
       "      <td>NaN</td>\n",
       "    </tr>\n",
       "    <tr>\n",
       "      <th>1</th>\n",
       "      <td>NaN</td>\n",
       "      <td>Current Assets</td>\n",
       "      <td>2000</td>\n",
       "      <td>2670.59714</td>\n",
       "      <td>3071.17</td>\n",
       "      <td>9683.558386</td>\n",
       "      <td>18311.660745</td>\n",
       "      <td>24631.043117</td>\n",
       "      <td>31113.116572</td>\n",
       "      <td>38335.242898</td>\n",
       "      <td>...</td>\n",
       "      <td>53960.584482</td>\n",
       "      <td>62578.664862</td>\n",
       "      <td>71665.467319</td>\n",
       "      <td>81415.742487</td>\n",
       "      <td>91686.262418</td>\n",
       "      <td>NaN</td>\n",
       "      <td>NaN</td>\n",
       "      <td>NaN</td>\n",
       "      <td>NaN</td>\n",
       "      <td>NaN</td>\n",
       "    </tr>\n",
       "    <tr>\n",
       "      <th>2</th>\n",
       "      <td>NaN</td>\n",
       "      <td>Cash and Equivalents</td>\n",
       "      <td>277</td>\n",
       "      <td>730.89494</td>\n",
       "      <td>596.154</td>\n",
       "      <td>7066.648150</td>\n",
       "      <td>15334.041209</td>\n",
       "      <td>21835.899804</td>\n",
       "      <td>28194.145723</td>\n",
       "      <td>35219.623632</td>\n",
       "      <td>...</td>\n",
       "      <td>50544.194303</td>\n",
       "      <td>58980.475322</td>\n",
       "      <td>67896.203776</td>\n",
       "      <td>77445.857078</td>\n",
       "      <td>87527.923059</td>\n",
       "      <td>NaN</td>\n",
       "      <td>NaN</td>\n",
       "      <td>NaN</td>\n",
       "      <td>NaN</td>\n",
       "      <td>NaN</td>\n",
       "    </tr>\n",
       "    <tr>\n",
       "      <th>3</th>\n",
       "      <td>NaN</td>\n",
       "      <td>Trade and other Receivables</td>\n",
       "      <td>1576</td>\n",
       "      <td>1780.15897</td>\n",
       "      <td>2308.74</td>\n",
       "      <td>2490.743073</td>\n",
       "      <td>2843.073490</td>\n",
       "      <td>2654.401478</td>\n",
       "      <td>2770.488889</td>\n",
       "      <td>2959.013846</td>\n",
       "      <td>...</td>\n",
       "      <td>3244.565336</td>\n",
       "      <td>3418.103495</td>\n",
       "      <td>3580.622595</td>\n",
       "      <td>3772.173986</td>\n",
       "      <td>3951.237232</td>\n",
       "      <td>NaN</td>\n",
       "      <td>NaN</td>\n",
       "      <td>NaN</td>\n",
       "      <td>NaN</td>\n",
       "      <td>NaN</td>\n",
       "    </tr>\n",
       "    <tr>\n",
       "      <th>4</th>\n",
       "      <td>NaN</td>\n",
       "      <td>Inventory</td>\n",
       "      <td>147</td>\n",
       "      <td>159.54323</td>\n",
       "      <td>166.277</td>\n",
       "      <td>126.167163</td>\n",
       "      <td>134.546046</td>\n",
       "      <td>140.741835</td>\n",
       "      <td>148.481960</td>\n",
       "      <td>156.605420</td>\n",
       "      <td>...</td>\n",
       "      <td>171.824843</td>\n",
       "      <td>180.086045</td>\n",
       "      <td>188.640948</td>\n",
       "      <td>197.711423</td>\n",
       "      <td>207.102126</td>\n",
       "      <td>NaN</td>\n",
       "      <td>NaN</td>\n",
       "      <td>NaN</td>\n",
       "      <td>NaN</td>\n",
       "      <td>NaN</td>\n",
       "    </tr>\n",
       "  </tbody>\n",
       "</table>\n",
       "<p>5 rows × 21 columns</p>\n",
       "</div>"
      ],
      "text/plain": [
       "   Unnamed: 0                BALANCE SHEET   2010         2011     2012  \\\n",
       "0         NaN                       ASSETS  50293  49632.15084    48194   \n",
       "1         NaN               Current Assets   2000   2670.59714  3071.17   \n",
       "2         NaN         Cash and Equivalents    277    730.89494  596.154   \n",
       "3         NaN  Trade and other Receivables   1576   1780.15897  2308.74   \n",
       "4         NaN                    Inventory    147    159.54323  166.277   \n",
       "\n",
       "           2013          2014          2015          2016          2017  \\\n",
       "0  53596.104673  61506.664438  67012.504217  72585.035079  78801.618811   \n",
       "1   9683.558386  18311.660745  24631.043117  31113.116572  38335.242898   \n",
       "2   7066.648150  15334.041209  21835.899804  28194.145723  35219.623632   \n",
       "3   2490.743073   2843.073490   2654.401478   2770.488889   2959.013846   \n",
       "4    126.167163    134.546046    140.741835    148.481960    156.605420   \n",
       "\n",
       "      ...              2019          2020           2021           2022  \\\n",
       "0     ...      92127.875209  99452.412995  107149.672859  115414.405433   \n",
       "1     ...      53960.584482  62578.664862   71665.467319   81415.742487   \n",
       "2     ...      50544.194303  58980.475322   67896.203776   77445.857078   \n",
       "3     ...       3244.565336   3418.103495    3580.622595    3772.173986   \n",
       "4     ...        171.824843    180.086045     188.640948     197.711423   \n",
       "\n",
       "            2023  Unnamed: 16  Unnamed: 17  Unnamed: 18 Unnamed: 19  \\\n",
       "0  122503.382770          NaN          NaN          NaN         NaN   \n",
       "1   91686.262418          NaN          NaN          NaN         NaN   \n",
       "2   87527.923059          NaN          NaN          NaN         NaN   \n",
       "3    3951.237232          NaN          NaN          NaN         NaN   \n",
       "4     207.102126          NaN          NaN          NaN         NaN   \n",
       "\n",
       "  Unnamed: 20  \n",
       "0         NaN  \n",
       "1         NaN  \n",
       "2         NaN  \n",
       "3         NaN  \n",
       "4         NaN  \n",
       "\n",
       "[5 rows x 21 columns]"
      ]
     },
     "execution_count": 81,
     "metadata": {},
     "output_type": "execute_result"
    }
   ],
   "source": [
    "df.head()"
   ]
  },
  {
   "cell_type": "code",
   "execution_count": null,
   "metadata": {
    "collapsed": true
   },
   "outputs": [],
   "source": []
  }
 ],
 "metadata": {
  "anaconda-cloud": {},
  "kernelspec": {
   "display_name": "Python [conda env:udacity]",
   "language": "python",
   "name": "conda-env-udacity-py"
  },
  "language_info": {
   "codemirror_mode": {
    "name": "ipython",
    "version": 3
   },
   "file_extension": ".py",
   "mimetype": "text/x-python",
   "name": "python",
   "nbconvert_exporter": "python",
   "pygments_lexer": "ipython3",
   "version": "3.5.2"
  }
 },
 "nbformat": 4,
 "nbformat_minor": 1
}
